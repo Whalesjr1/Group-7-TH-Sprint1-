{
  "nbformat": 4,
  "nbformat_minor": 0,
  "metadata": {
    "colab": {
      "name": "CourseWork2.ipynb",
      "provenance": [],
      "collapsed_sections": []
    },
    "kernelspec": {
      "name": "python3",
      "display_name": "Python 3"
    },
    "language_info": {
      "name": "python"
    }
  },
  "cells": [
    {
      "cell_type": "code",
      "metadata": {
        "colab": {
          "base_uri": "https://localhost:8080/"
        },
        "id": "Ut0kCVihuG23",
        "outputId": "5b49672a-ff50-4996-da9b-cf8eecf2fba2"
      },
      "source": [
        "#KASIM ADEWALE SOLIU\n",
        "#KAS20505831\n",
        "\n",
        "#ASK USER TO ENTER USER ID\n",
        "User_Id = input(\"please your User_Id: \")\n",
        "while len(User_Id) !=2:\n",
        "  print(\"Error\")\n",
        "  User_Id = input(\"please your User_Id: \")\n",
        "\n",
        "#ASK USER TO ENTER NAME AND DATE OF BIRTH\n",
        "Name = input(\"Enter Name: \")\n",
        "print(\"Hi There\", Name + (\"!\"))\n",
        "Day = int(input(\"Enter the Day of Birth:\"))\n",
        "Month = int(input(\"Input Month of Birth:\"))\n",
        "BirthYear = int(input(\"Enter Year Of Birth:\"))\n",
        "print(\"DOB :\", Day, Month, BirthYear)\n",
        "Age = 2021 - BirthYear\n",
        "print(\"Your Age Is :\", Age)\n",
        "\n",
        "#FIND THE USER ASTROLOGICAL SIGN USING THEIR DATE OF BIRTH\n",
        "if Month == '12':\n",
        "  Astro_Sign ='Sagittarius' if (Day < 22) else 'Capricorn'\n",
        "elif Month == '01':\n",
        "  Astro_Sign ='Capricorn' if (Day < 20) else 'Aquarius'\n",
        "elif Month == '02':\n",
        "  Astro_Sign ='Aquarius' if (Day < 19) else 'Pisces'\n",
        "elif Month == '03':\n",
        "  Astro_Sign ='Pisces' if (Day < 21) else 'Aries'\n",
        "elif Month == '04':\n",
        "  Astro_Sign ='Aries' if (Day < 20) else 'Taurus'\n",
        "elif Month == '05':\n",
        "  Astro_Sign ='Taurus' if (Day < 21) else 'Gemini'\n",
        "elif Month == '06':\n",
        "  Astro_Sign ='Gemini' if (Day < 21) else 'Cancer'\n",
        "elif Month == '07':\n",
        "  Astro_Sign ='Cancer' if (Day < 23) else 'Leo'\n",
        "elif Month == '08':\n",
        "  Astro_Sign ='Leo' if (Day < 23) else 'Virgo'\n",
        "elif Month == '09':\n",
        "  Astro_Sign ='Virgo' if (Day < 23) else 'Libra'\n",
        "elif Month == '10':\n",
        "  Astro_Sign ='Libra' if (Day < 23) else 'Scorpio'\n",
        "elif Month == '11':\n",
        "  Astro_Sign ='Scorpio' if (Day < 20) else 'Sagittarius'\n",
        "print(\"Your Astrological Sign is :\", Astro_Sign)"
      ],
      "execution_count": 27,
      "outputs": [
        {
          "output_type": "stream",
          "name": "stdout",
          "text": [
            "please your User_Id: 12\n",
            "Enter Name: Adewale\n",
            "Hi There Adewale!\n",
            "Enter the Day of Birth:12\n",
            "Input Month of Birth:5\n",
            "Enter Year Of Birth:2000\n",
            "DOB : 12 5 2000\n",
            "Your Age Is : 21\n",
            "Your Astrological Sign is : Taurus\n"
          ]
        }
      ]
    },
    {
      "cell_type": "code",
      "metadata": {
        "colab": {
          "base_uri": "https://localhost:8080/"
        },
        "id": "F1x4Ss9rgCuv",
        "outputId": "6622e2d0-f4ad-428f-968e-fec89df248f9"
      },
      "source": [
        "#IMPORT MODULE\n",
        "from tabulate import tabulate\n",
        "\n",
        "#ASSIGN DATA\n",
        "Mydata = [[\"17\", \"Junior\", \"30/04/2004\", \"17\", \"Taurus\"], [\"34\", \"Whales\", \"10/10/1999\", \"22\", \"Libra\"],\n",
        "\t\t[\"11\", \"Kasim\", \"25/07/2000\", \"21\", \"Leo\"], [\"12\", \"Adewale\", \"12/05/2000\", \"21\", \"Taurus\"]]\n",
        "\n",
        "# create header\n",
        "Head = [\"User_Id\", \"Name\", \"DOB\", \"Age\", \"Astro_Sign\"]\n",
        "\n",
        "# display table\n",
        "print(tabulate(Mydata, headers=Head, tablefmt=\"grid\"))\n",
        "\n"
      ],
      "execution_count": 26,
      "outputs": [
        {
          "output_type": "stream",
          "name": "stdout",
          "text": [
            "+-----------+---------+------------+-------+--------------+\n",
            "|   User_Id | Name    | DOB        |   Age | Astro_Sign   |\n",
            "+===========+=========+============+=======+==============+\n",
            "|        17 | Junior  | 30/04/2004 |    17 | Taurus       |\n",
            "+-----------+---------+------------+-------+--------------+\n",
            "|        34 | Whales  | 10/10/1999 |    22 | Libra        |\n",
            "+-----------+---------+------------+-------+--------------+\n",
            "|        11 | Kasim   | 25/07/2000 |    21 | Leo          |\n",
            "+-----------+---------+------------+-------+--------------+\n",
            "|        12 | Adewale | 12/05/2000 |    21 | Taurus       |\n",
            "+-----------+---------+------------+-------+--------------+\n"
          ]
        }
      ]
    }
  ]
}